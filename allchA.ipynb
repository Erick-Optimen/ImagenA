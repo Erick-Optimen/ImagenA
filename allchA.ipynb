{
 "cells": [
  {
   "cell_type": "code",
   "execution_count": 11,
   "metadata": {},
   "outputs": [],
   "source": [
    "listGifNamesOR10=[]\n",
    "for i in range(1,40):\n",
    "    #print('htmlOR10_'+str(i).rjust(2, '0')+'.html')\n",
    "    listGifNamesOR10.append('htmlOR10_'+str(i).rjust(2, '0')+'_MOISTURE.html')\n",
    "    listGifNamesOR10.append('htmlOR10_'+str(i).rjust(2, '0')+'_NDVI.html')\n",
    "    \n"
   ]
  },
  {
   "cell_type": "code",
   "execution_count": 13,
   "metadata": {},
   "outputs": [
    {
     "name": "stdout",
     "output_type": "stream",
     "text": [
      "['htmlOR10_01_MOISTURE.html', 'htmlOR10_01_NDVI.html', 'htmlOR10_02_MOISTURE.html', 'htmlOR10_02_NDVI.html', 'htmlOR10_03_MOISTURE.html', 'htmlOR10_03_NDVI.html', 'htmlOR10_04_MOISTURE.html', 'htmlOR10_04_NDVI.html', 'htmlOR10_05_MOISTURE.html', 'htmlOR10_05_NDVI.html', 'htmlOR10_06_MOISTURE.html', 'htmlOR10_06_NDVI.html', 'htmlOR10_07_MOISTURE.html', 'htmlOR10_07_NDVI.html', 'htmlOR10_08_MOISTURE.html', 'htmlOR10_08_NDVI.html', 'htmlOR10_09_MOISTURE.html', 'htmlOR10_09_NDVI.html', 'htmlOR10_10_MOISTURE.html', 'htmlOR10_10_NDVI.html', 'htmlOR10_11_MOISTURE.html', 'htmlOR10_11_NDVI.html', 'htmlOR10_12_MOISTURE.html', 'htmlOR10_12_NDVI.html', 'htmlOR10_13_MOISTURE.html', 'htmlOR10_13_NDVI.html', 'htmlOR10_14_MOISTURE.html', 'htmlOR10_14_NDVI.html', 'htmlOR10_15_MOISTURE.html', 'htmlOR10_15_NDVI.html', 'htmlOR10_16_MOISTURE.html', 'htmlOR10_16_NDVI.html', 'htmlOR10_17_MOISTURE.html', 'htmlOR10_17_NDVI.html', 'htmlOR10_18_MOISTURE.html', 'htmlOR10_18_NDVI.html', 'htmlOR10_19_MOISTURE.html', 'htmlOR10_19_NDVI.html', 'htmlOR10_20_MOISTURE.html', 'htmlOR10_20_NDVI.html', 'htmlOR10_21_MOISTURE.html', 'htmlOR10_21_NDVI.html', 'htmlOR10_22_MOISTURE.html', 'htmlOR10_22_NDVI.html', 'htmlOR10_23_MOISTURE.html', 'htmlOR10_23_NDVI.html', 'htmlOR10_24_MOISTURE.html', 'htmlOR10_24_NDVI.html', 'htmlOR10_25_MOISTURE.html', 'htmlOR10_25_NDVI.html', 'htmlOR10_26_MOISTURE.html', 'htmlOR10_26_NDVI.html', 'htmlOR10_27_MOISTURE.html', 'htmlOR10_27_NDVI.html', 'htmlOR10_28_MOISTURE.html', 'htmlOR10_28_NDVI.html', 'htmlOR10_29_MOISTURE.html', 'htmlOR10_29_NDVI.html', 'htmlOR10_30_MOISTURE.html', 'htmlOR10_30_NDVI.html', 'htmlOR10_31_MOISTURE.html', 'htmlOR10_31_NDVI.html', 'htmlOR10_32_MOISTURE.html', 'htmlOR10_32_NDVI.html', 'htmlOR10_33_MOISTURE.html', 'htmlOR10_33_NDVI.html', 'htmlOR10_34_MOISTURE.html', 'htmlOR10_34_NDVI.html', 'htmlOR10_35_MOISTURE.html', 'htmlOR10_35_NDVI.html', 'htmlOR10_36_MOISTURE.html', 'htmlOR10_36_NDVI.html', 'htmlOR10_37_MOISTURE.html', 'htmlOR10_37_NDVI.html', 'htmlOR10_38_MOISTURE.html', 'htmlOR10_38_NDVI.html', 'htmlOR10_39_MOISTURE.html', 'htmlOR10_39_NDVI.html']\n"
     ]
    }
   ],
   "source": [
    "print(listGifNamesOR10)"
   ]
  },
  {
   "cell_type": "code",
   "execution_count": 14,
   "metadata": {},
   "outputs": [],
   "source": [
    "listGifNamesOR11=[]\n",
    "for i in range(1,30):\n",
    "    #print('htmlOR10_'+str(i).rjust(2, '0')+'.html')\n",
    "    listGifNamesOR11.append('htmlOR11_'+str(i).rjust(2, '0')+'_MOISTURE.html')\n",
    "    listGifNamesOR11.append('htmlOR11_'+str(i).rjust(2, '0')+'_NDVI.html')"
   ]
  },
  {
   "cell_type": "code",
   "execution_count": 15,
   "metadata": {},
   "outputs": [
    {
     "name": "stdout",
     "output_type": "stream",
     "text": [
      "['htmlOR11_01_MOISTURE.html', 'htmlOR11_01_NDVI.html', 'htmlOR11_02_MOISTURE.html', 'htmlOR11_02_NDVI.html', 'htmlOR11_03_MOISTURE.html', 'htmlOR11_03_NDVI.html', 'htmlOR11_04_MOISTURE.html', 'htmlOR11_04_NDVI.html', 'htmlOR11_05_MOISTURE.html', 'htmlOR11_05_NDVI.html', 'htmlOR11_06_MOISTURE.html', 'htmlOR11_06_NDVI.html', 'htmlOR11_07_MOISTURE.html', 'htmlOR11_07_NDVI.html', 'htmlOR11_08_MOISTURE.html', 'htmlOR11_08_NDVI.html', 'htmlOR11_09_MOISTURE.html', 'htmlOR11_09_NDVI.html', 'htmlOR11_10_MOISTURE.html', 'htmlOR11_10_NDVI.html', 'htmlOR11_11_MOISTURE.html', 'htmlOR11_11_NDVI.html', 'htmlOR11_12_MOISTURE.html', 'htmlOR11_12_NDVI.html', 'htmlOR11_13_MOISTURE.html', 'htmlOR11_13_NDVI.html', 'htmlOR11_14_MOISTURE.html', 'htmlOR11_14_NDVI.html', 'htmlOR11_15_MOISTURE.html', 'htmlOR11_15_NDVI.html', 'htmlOR11_16_MOISTURE.html', 'htmlOR11_16_NDVI.html', 'htmlOR11_17_MOISTURE.html', 'htmlOR11_17_NDVI.html', 'htmlOR11_18_MOISTURE.html', 'htmlOR11_18_NDVI.html', 'htmlOR11_19_MOISTURE.html', 'htmlOR11_19_NDVI.html', 'htmlOR11_20_MOISTURE.html', 'htmlOR11_20_NDVI.html', 'htmlOR11_21_MOISTURE.html', 'htmlOR11_21_NDVI.html', 'htmlOR11_22_MOISTURE.html', 'htmlOR11_22_NDVI.html', 'htmlOR11_23_MOISTURE.html', 'htmlOR11_23_NDVI.html', 'htmlOR11_24_MOISTURE.html', 'htmlOR11_24_NDVI.html', 'htmlOR11_25_MOISTURE.html', 'htmlOR11_25_NDVI.html', 'htmlOR11_26_MOISTURE.html', 'htmlOR11_26_NDVI.html', 'htmlOR11_27_MOISTURE.html', 'htmlOR11_27_NDVI.html', 'htmlOR11_28_MOISTURE.html', 'htmlOR11_28_NDVI.html', 'htmlOR11_29_MOISTURE.html', 'htmlOR11_29_NDVI.html']\n"
     ]
    }
   ],
   "source": [
    "print(listGifNamesOR11)"
   ]
  },
  {
   "cell_type": "code",
   "execution_count": 16,
   "metadata": {},
   "outputs": [],
   "source": [
    "listGifNamesOR12=[]\n",
    "for i in range(1,40):\n",
    "    #print('htmlOR10_'+str(i).rjust(2, '0')+'.html')\n",
    "    listGifNamesOR12.append('htmlOR12_'+str(i).rjust(2, '0')+'_MOISTURE.html')\n",
    "    listGifNamesOR12.append('htmlOR12_'+str(i).rjust(2, '0')+'_NDVI.html')"
   ]
  },
  {
   "cell_type": "code",
   "execution_count": 17,
   "metadata": {},
   "outputs": [
    {
     "name": "stdout",
     "output_type": "stream",
     "text": [
      "['htmlOR12_01_MOISTURE.html', 'htmlOR12_01_NDVI.html', 'htmlOR12_02_MOISTURE.html', 'htmlOR12_02_NDVI.html', 'htmlOR12_03_MOISTURE.html', 'htmlOR12_03_NDVI.html', 'htmlOR12_04_MOISTURE.html', 'htmlOR12_04_NDVI.html', 'htmlOR12_05_MOISTURE.html', 'htmlOR12_05_NDVI.html', 'htmlOR12_06_MOISTURE.html', 'htmlOR12_06_NDVI.html', 'htmlOR12_07_MOISTURE.html', 'htmlOR12_07_NDVI.html', 'htmlOR12_08_MOISTURE.html', 'htmlOR12_08_NDVI.html', 'htmlOR12_09_MOISTURE.html', 'htmlOR12_09_NDVI.html', 'htmlOR12_10_MOISTURE.html', 'htmlOR12_10_NDVI.html', 'htmlOR12_11_MOISTURE.html', 'htmlOR12_11_NDVI.html', 'htmlOR12_12_MOISTURE.html', 'htmlOR12_12_NDVI.html', 'htmlOR12_13_MOISTURE.html', 'htmlOR12_13_NDVI.html', 'htmlOR12_14_MOISTURE.html', 'htmlOR12_14_NDVI.html', 'htmlOR12_15_MOISTURE.html', 'htmlOR12_15_NDVI.html', 'htmlOR12_16_MOISTURE.html', 'htmlOR12_16_NDVI.html', 'htmlOR12_17_MOISTURE.html', 'htmlOR12_17_NDVI.html', 'htmlOR12_18_MOISTURE.html', 'htmlOR12_18_NDVI.html', 'htmlOR12_19_MOISTURE.html', 'htmlOR12_19_NDVI.html', 'htmlOR12_20_MOISTURE.html', 'htmlOR12_20_NDVI.html', 'htmlOR12_21_MOISTURE.html', 'htmlOR12_21_NDVI.html', 'htmlOR12_22_MOISTURE.html', 'htmlOR12_22_NDVI.html', 'htmlOR12_23_MOISTURE.html', 'htmlOR12_23_NDVI.html', 'htmlOR12_24_MOISTURE.html', 'htmlOR12_24_NDVI.html', 'htmlOR12_25_MOISTURE.html', 'htmlOR12_25_NDVI.html', 'htmlOR12_26_MOISTURE.html', 'htmlOR12_26_NDVI.html', 'htmlOR12_27_MOISTURE.html', 'htmlOR12_27_NDVI.html', 'htmlOR12_28_MOISTURE.html', 'htmlOR12_28_NDVI.html', 'htmlOR12_29_MOISTURE.html', 'htmlOR12_29_NDVI.html', 'htmlOR12_30_MOISTURE.html', 'htmlOR12_30_NDVI.html', 'htmlOR12_31_MOISTURE.html', 'htmlOR12_31_NDVI.html', 'htmlOR12_32_MOISTURE.html', 'htmlOR12_32_NDVI.html', 'htmlOR12_33_MOISTURE.html', 'htmlOR12_33_NDVI.html', 'htmlOR12_34_MOISTURE.html', 'htmlOR12_34_NDVI.html', 'htmlOR12_35_MOISTURE.html', 'htmlOR12_35_NDVI.html', 'htmlOR12_36_MOISTURE.html', 'htmlOR12_36_NDVI.html', 'htmlOR12_37_MOISTURE.html', 'htmlOR12_37_NDVI.html', 'htmlOR12_38_MOISTURE.html', 'htmlOR12_38_NDVI.html', 'htmlOR12_39_MOISTURE.html', 'htmlOR12_39_NDVI.html']\n"
     ]
    }
   ],
   "source": [
    "print(listGifNamesOR12)"
   ]
  },
  {
   "cell_type": "code",
   "execution_count": 18,
   "metadata": {},
   "outputs": [],
   "source": [
    "listGifNamesOR13=[]\n",
    "for i in range(1,24):\n",
    "    #print('htmlOR10_'+str(i).rjust(2, '0')+'.html')\n",
    "    listGifNamesOR13.append('htmlOR13_'+str(i).rjust(2, '0')+'_MOISTURE.html')\n",
    "    listGifNamesOR13.append('htmlOR13_'+str(i).rjust(2, '0')+'_NDVI.html')"
   ]
  },
  {
   "cell_type": "code",
   "execution_count": 19,
   "metadata": {},
   "outputs": [
    {
     "name": "stdout",
     "output_type": "stream",
     "text": [
      "['htmlOR13_01_MOISTURE.html', 'htmlOR13_01_NDVI.html', 'htmlOR13_02_MOISTURE.html', 'htmlOR13_02_NDVI.html', 'htmlOR13_03_MOISTURE.html', 'htmlOR13_03_NDVI.html', 'htmlOR13_04_MOISTURE.html', 'htmlOR13_04_NDVI.html', 'htmlOR13_05_MOISTURE.html', 'htmlOR13_05_NDVI.html', 'htmlOR13_06_MOISTURE.html', 'htmlOR13_06_NDVI.html', 'htmlOR13_07_MOISTURE.html', 'htmlOR13_07_NDVI.html', 'htmlOR13_08_MOISTURE.html', 'htmlOR13_08_NDVI.html', 'htmlOR13_09_MOISTURE.html', 'htmlOR13_09_NDVI.html', 'htmlOR13_10_MOISTURE.html', 'htmlOR13_10_NDVI.html', 'htmlOR13_11_MOISTURE.html', 'htmlOR13_11_NDVI.html', 'htmlOR13_12_MOISTURE.html', 'htmlOR13_12_NDVI.html', 'htmlOR13_13_MOISTURE.html', 'htmlOR13_13_NDVI.html', 'htmlOR13_14_MOISTURE.html', 'htmlOR13_14_NDVI.html', 'htmlOR13_15_MOISTURE.html', 'htmlOR13_15_NDVI.html', 'htmlOR13_16_MOISTURE.html', 'htmlOR13_16_NDVI.html', 'htmlOR13_17_MOISTURE.html', 'htmlOR13_17_NDVI.html', 'htmlOR13_18_MOISTURE.html', 'htmlOR13_18_NDVI.html', 'htmlOR13_19_MOISTURE.html', 'htmlOR13_19_NDVI.html', 'htmlOR13_20_MOISTURE.html', 'htmlOR13_20_NDVI.html', 'htmlOR13_21_MOISTURE.html', 'htmlOR13_21_NDVI.html', 'htmlOR13_22_MOISTURE.html', 'htmlOR13_22_NDVI.html', 'htmlOR13_23_MOISTURE.html', 'htmlOR13_23_NDVI.html']\n"
     ]
    }
   ],
   "source": [
    "print(listGifNamesOR13)"
   ]
  },
  {
   "cell_type": "code",
   "execution_count": 20,
   "metadata": {},
   "outputs": [],
   "source": [
    "listAllNamesGifs=listGifNamesOR10+listGifNamesOR11+listGifNamesOR12+listGifNamesOR13"
   ]
  },
  {
   "cell_type": "code",
   "execution_count": 21,
   "metadata": {},
   "outputs": [
    {
     "name": "stdout",
     "output_type": "stream",
     "text": [
      "['htmlOR10_01_MOISTURE.html', 'htmlOR10_01_NDVI.html', 'htmlOR10_02_MOISTURE.html', 'htmlOR10_02_NDVI.html', 'htmlOR10_03_MOISTURE.html', 'htmlOR10_03_NDVI.html', 'htmlOR10_04_MOISTURE.html', 'htmlOR10_04_NDVI.html', 'htmlOR10_05_MOISTURE.html', 'htmlOR10_05_NDVI.html', 'htmlOR10_06_MOISTURE.html', 'htmlOR10_06_NDVI.html', 'htmlOR10_07_MOISTURE.html', 'htmlOR10_07_NDVI.html', 'htmlOR10_08_MOISTURE.html', 'htmlOR10_08_NDVI.html', 'htmlOR10_09_MOISTURE.html', 'htmlOR10_09_NDVI.html', 'htmlOR10_10_MOISTURE.html', 'htmlOR10_10_NDVI.html', 'htmlOR10_11_MOISTURE.html', 'htmlOR10_11_NDVI.html', 'htmlOR10_12_MOISTURE.html', 'htmlOR10_12_NDVI.html', 'htmlOR10_13_MOISTURE.html', 'htmlOR10_13_NDVI.html', 'htmlOR10_14_MOISTURE.html', 'htmlOR10_14_NDVI.html', 'htmlOR10_15_MOISTURE.html', 'htmlOR10_15_NDVI.html', 'htmlOR10_16_MOISTURE.html', 'htmlOR10_16_NDVI.html', 'htmlOR10_17_MOISTURE.html', 'htmlOR10_17_NDVI.html', 'htmlOR10_18_MOISTURE.html', 'htmlOR10_18_NDVI.html', 'htmlOR10_19_MOISTURE.html', 'htmlOR10_19_NDVI.html', 'htmlOR10_20_MOISTURE.html', 'htmlOR10_20_NDVI.html', 'htmlOR10_21_MOISTURE.html', 'htmlOR10_21_NDVI.html', 'htmlOR10_22_MOISTURE.html', 'htmlOR10_22_NDVI.html', 'htmlOR10_23_MOISTURE.html', 'htmlOR10_23_NDVI.html', 'htmlOR10_24_MOISTURE.html', 'htmlOR10_24_NDVI.html', 'htmlOR10_25_MOISTURE.html', 'htmlOR10_25_NDVI.html', 'htmlOR10_26_MOISTURE.html', 'htmlOR10_26_NDVI.html', 'htmlOR10_27_MOISTURE.html', 'htmlOR10_27_NDVI.html', 'htmlOR10_28_MOISTURE.html', 'htmlOR10_28_NDVI.html', 'htmlOR10_29_MOISTURE.html', 'htmlOR10_29_NDVI.html', 'htmlOR10_30_MOISTURE.html', 'htmlOR10_30_NDVI.html', 'htmlOR10_31_MOISTURE.html', 'htmlOR10_31_NDVI.html', 'htmlOR10_32_MOISTURE.html', 'htmlOR10_32_NDVI.html', 'htmlOR10_33_MOISTURE.html', 'htmlOR10_33_NDVI.html', 'htmlOR10_34_MOISTURE.html', 'htmlOR10_34_NDVI.html', 'htmlOR10_35_MOISTURE.html', 'htmlOR10_35_NDVI.html', 'htmlOR10_36_MOISTURE.html', 'htmlOR10_36_NDVI.html', 'htmlOR10_37_MOISTURE.html', 'htmlOR10_37_NDVI.html', 'htmlOR10_38_MOISTURE.html', 'htmlOR10_38_NDVI.html', 'htmlOR10_39_MOISTURE.html', 'htmlOR10_39_NDVI.html', 'htmlOR11_01_MOISTURE.html', 'htmlOR11_01_NDVI.html', 'htmlOR11_02_MOISTURE.html', 'htmlOR11_02_NDVI.html', 'htmlOR11_03_MOISTURE.html', 'htmlOR11_03_NDVI.html', 'htmlOR11_04_MOISTURE.html', 'htmlOR11_04_NDVI.html', 'htmlOR11_05_MOISTURE.html', 'htmlOR11_05_NDVI.html', 'htmlOR11_06_MOISTURE.html', 'htmlOR11_06_NDVI.html', 'htmlOR11_07_MOISTURE.html', 'htmlOR11_07_NDVI.html', 'htmlOR11_08_MOISTURE.html', 'htmlOR11_08_NDVI.html', 'htmlOR11_09_MOISTURE.html', 'htmlOR11_09_NDVI.html', 'htmlOR11_10_MOISTURE.html', 'htmlOR11_10_NDVI.html', 'htmlOR11_11_MOISTURE.html', 'htmlOR11_11_NDVI.html', 'htmlOR11_12_MOISTURE.html', 'htmlOR11_12_NDVI.html', 'htmlOR11_13_MOISTURE.html', 'htmlOR11_13_NDVI.html', 'htmlOR11_14_MOISTURE.html', 'htmlOR11_14_NDVI.html', 'htmlOR11_15_MOISTURE.html', 'htmlOR11_15_NDVI.html', 'htmlOR11_16_MOISTURE.html', 'htmlOR11_16_NDVI.html', 'htmlOR11_17_MOISTURE.html', 'htmlOR11_17_NDVI.html', 'htmlOR11_18_MOISTURE.html', 'htmlOR11_18_NDVI.html', 'htmlOR11_19_MOISTURE.html', 'htmlOR11_19_NDVI.html', 'htmlOR11_20_MOISTURE.html', 'htmlOR11_20_NDVI.html', 'htmlOR11_21_MOISTURE.html', 'htmlOR11_21_NDVI.html', 'htmlOR11_22_MOISTURE.html', 'htmlOR11_22_NDVI.html', 'htmlOR11_23_MOISTURE.html', 'htmlOR11_23_NDVI.html', 'htmlOR11_24_MOISTURE.html', 'htmlOR11_24_NDVI.html', 'htmlOR11_25_MOISTURE.html', 'htmlOR11_25_NDVI.html', 'htmlOR11_26_MOISTURE.html', 'htmlOR11_26_NDVI.html', 'htmlOR11_27_MOISTURE.html', 'htmlOR11_27_NDVI.html', 'htmlOR11_28_MOISTURE.html', 'htmlOR11_28_NDVI.html', 'htmlOR11_29_MOISTURE.html', 'htmlOR11_29_NDVI.html', 'htmlOR12_01_MOISTURE.html', 'htmlOR12_01_NDVI.html', 'htmlOR12_02_MOISTURE.html', 'htmlOR12_02_NDVI.html', 'htmlOR12_03_MOISTURE.html', 'htmlOR12_03_NDVI.html', 'htmlOR12_04_MOISTURE.html', 'htmlOR12_04_NDVI.html', 'htmlOR12_05_MOISTURE.html', 'htmlOR12_05_NDVI.html', 'htmlOR12_06_MOISTURE.html', 'htmlOR12_06_NDVI.html', 'htmlOR12_07_MOISTURE.html', 'htmlOR12_07_NDVI.html', 'htmlOR12_08_MOISTURE.html', 'htmlOR12_08_NDVI.html', 'htmlOR12_09_MOISTURE.html', 'htmlOR12_09_NDVI.html', 'htmlOR12_10_MOISTURE.html', 'htmlOR12_10_NDVI.html', 'htmlOR12_11_MOISTURE.html', 'htmlOR12_11_NDVI.html', 'htmlOR12_12_MOISTURE.html', 'htmlOR12_12_NDVI.html', 'htmlOR12_13_MOISTURE.html', 'htmlOR12_13_NDVI.html', 'htmlOR12_14_MOISTURE.html', 'htmlOR12_14_NDVI.html', 'htmlOR12_15_MOISTURE.html', 'htmlOR12_15_NDVI.html', 'htmlOR12_16_MOISTURE.html', 'htmlOR12_16_NDVI.html', 'htmlOR12_17_MOISTURE.html', 'htmlOR12_17_NDVI.html', 'htmlOR12_18_MOISTURE.html', 'htmlOR12_18_NDVI.html', 'htmlOR12_19_MOISTURE.html', 'htmlOR12_19_NDVI.html', 'htmlOR12_20_MOISTURE.html', 'htmlOR12_20_NDVI.html', 'htmlOR12_21_MOISTURE.html', 'htmlOR12_21_NDVI.html', 'htmlOR12_22_MOISTURE.html', 'htmlOR12_22_NDVI.html', 'htmlOR12_23_MOISTURE.html', 'htmlOR12_23_NDVI.html', 'htmlOR12_24_MOISTURE.html', 'htmlOR12_24_NDVI.html', 'htmlOR12_25_MOISTURE.html', 'htmlOR12_25_NDVI.html', 'htmlOR12_26_MOISTURE.html', 'htmlOR12_26_NDVI.html', 'htmlOR12_27_MOISTURE.html', 'htmlOR12_27_NDVI.html', 'htmlOR12_28_MOISTURE.html', 'htmlOR12_28_NDVI.html', 'htmlOR12_29_MOISTURE.html', 'htmlOR12_29_NDVI.html', 'htmlOR12_30_MOISTURE.html', 'htmlOR12_30_NDVI.html', 'htmlOR12_31_MOISTURE.html', 'htmlOR12_31_NDVI.html', 'htmlOR12_32_MOISTURE.html', 'htmlOR12_32_NDVI.html', 'htmlOR12_33_MOISTURE.html', 'htmlOR12_33_NDVI.html', 'htmlOR12_34_MOISTURE.html', 'htmlOR12_34_NDVI.html', 'htmlOR12_35_MOISTURE.html', 'htmlOR12_35_NDVI.html', 'htmlOR12_36_MOISTURE.html', 'htmlOR12_36_NDVI.html', 'htmlOR12_37_MOISTURE.html', 'htmlOR12_37_NDVI.html', 'htmlOR12_38_MOISTURE.html', 'htmlOR12_38_NDVI.html', 'htmlOR12_39_MOISTURE.html', 'htmlOR12_39_NDVI.html', 'htmlOR13_01_MOISTURE.html', 'htmlOR13_01_NDVI.html', 'htmlOR13_02_MOISTURE.html', 'htmlOR13_02_NDVI.html', 'htmlOR13_03_MOISTURE.html', 'htmlOR13_03_NDVI.html', 'htmlOR13_04_MOISTURE.html', 'htmlOR13_04_NDVI.html', 'htmlOR13_05_MOISTURE.html', 'htmlOR13_05_NDVI.html', 'htmlOR13_06_MOISTURE.html', 'htmlOR13_06_NDVI.html', 'htmlOR13_07_MOISTURE.html', 'htmlOR13_07_NDVI.html', 'htmlOR13_08_MOISTURE.html', 'htmlOR13_08_NDVI.html', 'htmlOR13_09_MOISTURE.html', 'htmlOR13_09_NDVI.html', 'htmlOR13_10_MOISTURE.html', 'htmlOR13_10_NDVI.html', 'htmlOR13_11_MOISTURE.html', 'htmlOR13_11_NDVI.html', 'htmlOR13_12_MOISTURE.html', 'htmlOR13_12_NDVI.html', 'htmlOR13_13_MOISTURE.html', 'htmlOR13_13_NDVI.html', 'htmlOR13_14_MOISTURE.html', 'htmlOR13_14_NDVI.html', 'htmlOR13_15_MOISTURE.html', 'htmlOR13_15_NDVI.html', 'htmlOR13_16_MOISTURE.html', 'htmlOR13_16_NDVI.html', 'htmlOR13_17_MOISTURE.html', 'htmlOR13_17_NDVI.html', 'htmlOR13_18_MOISTURE.html', 'htmlOR13_18_NDVI.html', 'htmlOR13_19_MOISTURE.html', 'htmlOR13_19_NDVI.html', 'htmlOR13_20_MOISTURE.html', 'htmlOR13_20_NDVI.html', 'htmlOR13_21_MOISTURE.html', 'htmlOR13_21_NDVI.html', 'htmlOR13_22_MOISTURE.html', 'htmlOR13_22_NDVI.html', 'htmlOR13_23_MOISTURE.html', 'htmlOR13_23_NDVI.html']\n"
     ]
    }
   ],
   "source": [
    "print(listAllNamesGifs)"
   ]
  },
  {
   "cell_type": "code",
   "execution_count": 22,
   "metadata": {},
   "outputs": [],
   "source": [
    "file = open(\"file.txt\", \"w\")\n",
    "for line in listAllNamesGifs:\n",
    "    file.write(line + \"\\n\")\n",
    "file.close()"
   ]
  },
  {
   "cell_type": "code",
   "execution_count": 67,
   "metadata": {},
   "outputs": [
    {
     "name": "stdout",
     "output_type": "stream",
     "text": [
      "GIF OR10_01 MOISTURE\n",
      "OR10_GIFS\n"
     ]
    }
   ],
   "source": [
    "var01=listAllNamesGifs[0].split('_')\n",
    "var02=var01[2].split('.')\n",
    "leyenda01='GIF '+var01[0][-4:]+'_'+var01[1]+' '+ var02[0]\n",
    "print(leyenda01)\n",
    "print(var01[0][-4:]+'_GIFS')"
   ]
  },
  {
   "cell_type": "code",
   "execution_count": 33,
   "metadata": {},
   "outputs": [
    {
     "data": {
      "text/plain": [
       "True"
      ]
     },
     "execution_count": 33,
     "metadata": {},
     "output_type": "execute_result"
    }
   ],
   "source": [
    "import webbrowser\n",
    "\n",
    "f = open('holamundo2.html','w')\n",
    "variable='SOL'\n",
    "\n",
    "mensaje = \"\"\"<!DOCTYPE html>\n",
    "<html>\n",
    "    <style>\n",
    "        image{border:4px solid orange; width: 120px;height: 100px;}\n",
    "        h1{text-transform:uppercase}\n",
    "    </style>\n",
    "<head>\n",
    "    <title>\n",
    "        HTML frame scrolling Attribute\n",
    "    </title>\n",
    "</head>\n",
    "<body>\n",
    "    <h1>\"\"\"+variable+ \"\"\"</h1>\n",
    "    <img src=\"OR10_GIFS/OR10_01_MOISTURE.gif\" alt=\"image is not available\"> \n",
    "</body>\n",
    "</html>\"\"\"\n",
    "\n",
    "f.write(mensaje)\n",
    "f.close()\n",
    "\n",
    "webbrowser.open_new_tab('holamundo2.html')"
   ]
  },
  {
   "cell_type": "code",
   "execution_count": null,
   "metadata": {},
   "outputs": [],
   "source": [
    "for nameG in listAllNamesGifs:\n",
    "    f = open(nameG,'w')\n",
    "    var01=nameG.split('_')\n",
    "    var02=var01[2].split('.')\n",
    "    leyenda01='GIF '+var01[0][-4:]+'_'+var01[1]+' '+ var02[0]\n",
    "    mensaje = \"\"\"<!DOCTYPE html>\n",
    "    <html>\n",
    "        <style>\n",
    "            image{border:4px solid orange; width: 120px;height: 100px;}\n",
    "            h1{text-transform:uppercase}\n",
    "        </style>\n",
    "    <head>\n",
    "        <title>\n",
    "            HTML frame scrolling Attribute\n",
    "        </title>\n",
    "    </head>\n",
    "    <body>\n",
    "        <h1>\"\"\"+leyenda01+ \"\"\"</h1>\n",
    "        <img src=\"OR10_GIFS/OR10_01_MOISTURE.gif\" alt=\"image is not available\"> \n",
    "    </body>\n",
    "    </html>\"\"\"\n",
    "\n",
    "    f.write(mensaje)\n",
    "    f.close()\n",
    "\n",
    "\n",
    "    #webbrowser.open_new_tab('holamundo.html')"
   ]
  },
  {
   "cell_type": "code",
   "execution_count": 34,
   "metadata": {},
   "outputs": [
    {
     "name": "stdout",
     "output_type": "stream",
     "text": [
      "['x_0', 'x_1', 'x_2', 'x_3', 'x_4', 'x_5', 'x_6', 'x_7', 'x_8', 'x_9']\n"
     ]
    }
   ],
   "source": [
    "print([f'x_{i}' for i in range(10)])"
   ]
  }
 ],
 "metadata": {
  "kernelspec": {
   "display_name": "Python 3.10.6 64-bit (windows store)",
   "language": "python",
   "name": "python3"
  },
  "language_info": {
   "codemirror_mode": {
    "name": "ipython",
    "version": 3
   },
   "file_extension": ".py",
   "mimetype": "text/x-python",
   "name": "python",
   "nbconvert_exporter": "python",
   "pygments_lexer": "ipython3",
   "version": "3.10.6"
  },
  "orig_nbformat": 4,
  "vscode": {
   "interpreter": {
    "hash": "c56f423311d53c8ff6c0c73a5fc8250906aad8c349e18bc796ccca0a2b945655"
   }
  }
 },
 "nbformat": 4,
 "nbformat_minor": 2
}
